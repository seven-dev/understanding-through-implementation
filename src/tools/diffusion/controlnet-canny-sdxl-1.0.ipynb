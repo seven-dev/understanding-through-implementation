{
 "cells": [
  {
   "cell_type": "markdown",
   "id": "197065dd-14f5-48c1-bc65-271a8e528d30",
   "metadata": {},
   "source": [
    "# Running ControlNet with Stable Diffusion XL\n",
    "\n",
    "The goal here is to create an image given a text prompt and a base canny image (black background and white edge contours).\n",
    "\n",
    "I'm having this problem: https://github.com/huggingface/diffusers/issues/4390#issuecomment-1676434622  \n",
    "My PC is probably not good enough to run this.\n",
    "\n",
    "https://huggingface.co/diffusers/controlnet-canny-sdxl-1.0  \n",
    "https://huggingface.co/docs/diffusers/main/en/api/pipelines/controlnet  \n",
    "https://huggingface.co/docs/diffusers/main/en/api/pipelines/controlnet_sdxl"
   ]
  },
  {
   "cell_type": "code",
   "execution_count": 57,
   "id": "0b4b1e9f-f0ab-4d5b-842e-973ac18f145b",
   "metadata": {},
   "outputs": [],
   "source": [
    "%%capture\n",
    "!apt-get update && apt-get install libgl1 -y\n",
    "!pip install --upgrade diffusers[torch]\n",
    "#!pip install transformers[torch]\n",
    "!python -m pip install transformers[torch]\n",
    "!pip install setuptools-rust\n",
    "!pip install opencv-python"
   ]
  },
  {
   "cell_type": "code",
   "execution_count": 58,
   "id": "96278471-56ca-4be1-87f2-77f206b2764b",
   "metadata": {},
   "outputs": [
    {
     "name": "stdout",
     "output_type": "stream",
     "text": [
      "4.31.0\n"
     ]
    }
   ],
   "source": [
    "import transformers\n",
    "print(transformers.__version__)\n",
    "from diffusers import ControlNetModel, StableDiffusionControlNetPipeline, AutoencoderKL\n",
    "from diffusers.utils import load_image\n",
    "from PIL import Image\n",
    "import torch\n",
    "import numpy as np\n",
    "import cv2"
   ]
  },
  {
   "cell_type": "code",
   "execution_count": null,
   "id": "e832e7c6-62d1-46e0-97df-3ffc458d116f",
   "metadata": {
    "scrolled": true
   },
   "outputs": [],
   "source": [
    "prompt = \"aerial view, a futuristic research complex in a bright foggy jungle, hard lighting\"\n",
    "negative_prompt = 'low quality, bad quality, sketches'\n",
    "\n",
    "image = load_image(\"https://huggingface.co/datasets/hf-internal-testing/diffusers-images/resolve/main/sd_controlnet/hf-logo.png\")\n",
    "\n",
    "controlnet_conditioning_scale = 0.5  # recommended for good generalization\n",
    "\n",
    "controlnet = ControlNetModel.from_pretrained(\n",
    "    \"diffusers/controlnet-canny-sdxl-1.0\",\n",
    "    torch_dtype=torch.float16\n",
    ")\n",
    "vae = AutoencoderKL.from_pretrained(\"madebyollin/sdxl-vae-fp16-fix\", torch_dtype=torch.float16)\n",
    "pipe = StableDiffusionControlNetPipeline.from_pretrained(\n",
    "    \"stabilityai/stable-diffusion-base-1.0\",\n",
    "    controlnet=controlnet,\n",
    "    vae=vae,\n",
    "    torch_dtype=torch.float16,\n",
    ")\n",
    "pipe.enable_model_cpu_offload()\n",
    "\n",
    "image = np.array(image)\n",
    "image = cv2.Canny(image, 100, 200)\n",
    "image = image[:, :, None]\n",
    "image = np.concatenate([image, image, image], axis=2)\n",
    "image = Image.fromarray(image)\n",
    "\n",
    "images = pipe(\n",
    "    prompt, negative_prompt=negative_prompt, image=image, controlnet_conditioning_scale=controlnet_conditioning_scale,\n",
    "    ).images\n",
    "\n",
    "images[0].save(f\"hug_lab.png\")"
   ]
  },
  {
   "cell_type": "code",
   "execution_count": null,
   "id": "65a53765-70dc-4d47-a99e-281a1c78adae",
   "metadata": {},
   "outputs": [],
   "source": [
    "from diffusers import ControlNetModel, StableDiffusionControlNetPipeline\n",
    "\n",
    "controlnet = ControlNetModel.from_pretrained(\"diffusers/controlnet-canny-sdxl-1.0\")\n",
    "pipeline = StableDiffusionControlNetPipeline.from_pretrained(\n",
    "\t\"runwayml/stable-diffusion-v1-5\", controlnet=controlnet\n",
    ")"
   ]
  }
 ],
 "metadata": {
  "kernelspec": {
   "display_name": "Python 3 (ipykernel)",
   "language": "python",
   "name": "python3"
  },
  "language_info": {
   "codemirror_mode": {
    "name": "ipython",
    "version": 3
   },
   "file_extension": ".py",
   "mimetype": "text/x-python",
   "name": "python",
   "nbconvert_exporter": "python",
   "pygments_lexer": "ipython3",
   "version": "3.8.10"
  }
 },
 "nbformat": 4,
 "nbformat_minor": 5
}

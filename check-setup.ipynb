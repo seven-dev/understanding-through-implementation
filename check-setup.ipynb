{
 "cells": [
  {
   "cell_type": "code",
   "execution_count": 7,
   "id": "81043512-e909-4a29-ace6-c543a05e7011",
   "metadata": {},
   "outputs": [
    {
     "name": "stdout",
     "output_type": "stream",
     "text": [
      "2.13.0\n"
     ]
    }
   ],
   "source": [
    "import os\n",
    "# os.environ['CUDA_VISIBLE_DEVICES'] = \"0,1\"\n",
    "# os.environ['NVIDIA_VISIBLE_DEVICES'] = \"0,1\"\n",
    "import numpy as np\n",
    "import pandas as pd\n",
    "import tensorflow as tf\n",
    "print(tf.__version__)"
   ]
  },
  {
   "cell_type": "code",
   "execution_count": 8,
   "id": "67720b67-1577-47ad-876e-2318c6b889b3",
   "metadata": {},
   "outputs": [
    {
     "name": "stdout",
     "output_type": "stream",
     "text": [
      "GPUs:  [PhysicalDevice(name='/physical_device:GPU:0', device_type='GPU')]\n",
      "GPU Name:  /device:GPU:0\n"
     ]
    },
    {
     "name": "stderr",
     "output_type": "stream",
     "text": [
      "2023-08-11 22:26:25.312098: I tensorflow/compiler/xla/stream_executor/cuda/cuda_gpu_executor.cc:995] successful NUMA node read from SysFS had negative value (-1), but there must be at least one NUMA node, so returning NUMA node zero. See more at https://github.com/torvalds/linux/blob/v6.0/Documentation/ABI/testing/sysfs-bus-pci#L344-L355\n",
      "2023-08-11 22:26:25.312361: I tensorflow/compiler/xla/stream_executor/cuda/cuda_gpu_executor.cc:995] successful NUMA node read from SysFS had negative value (-1), but there must be at least one NUMA node, so returning NUMA node zero. See more at https://github.com/torvalds/linux/blob/v6.0/Documentation/ABI/testing/sysfs-bus-pci#L344-L355\n",
      "2023-08-11 22:26:25.312497: I tensorflow/compiler/xla/stream_executor/cuda/cuda_gpu_executor.cc:995] successful NUMA node read from SysFS had negative value (-1), but there must be at least one NUMA node, so returning NUMA node zero. See more at https://github.com/torvalds/linux/blob/v6.0/Documentation/ABI/testing/sysfs-bus-pci#L344-L355\n",
      "2023-08-11 22:26:25.312667: I tensorflow/compiler/xla/stream_executor/cuda/cuda_gpu_executor.cc:995] successful NUMA node read from SysFS had negative value (-1), but there must be at least one NUMA node, so returning NUMA node zero. See more at https://github.com/torvalds/linux/blob/v6.0/Documentation/ABI/testing/sysfs-bus-pci#L344-L355\n",
      "2023-08-11 22:26:25.312803: I tensorflow/compiler/xla/stream_executor/cuda/cuda_gpu_executor.cc:995] successful NUMA node read from SysFS had negative value (-1), but there must be at least one NUMA node, so returning NUMA node zero. See more at https://github.com/torvalds/linux/blob/v6.0/Documentation/ABI/testing/sysfs-bus-pci#L344-L355\n",
      "2023-08-11 22:26:25.312918: I tensorflow/core/common_runtime/gpu/gpu_device.cc:1639] Created device /device:GPU:0 with 4712 MB memory:  -> device: 0, name: NVIDIA GeForce RTX 2060, pci bus id: 0000:01:00.0, compute capability: 7.5\n"
     ]
    },
    {
     "name": "stdout",
     "output_type": "stream",
     "text": [
      "Fri Aug 11 22:26:25 2023       \n",
      "+---------------------------------------------------------------------------------------+\n",
      "| NVIDIA-SMI 535.54.03              Driver Version: 535.54.03    CUDA Version: 12.2     |\n",
      "|-----------------------------------------+----------------------+----------------------+\n",
      "| GPU  Name                 Persistence-M | Bus-Id        Disp.A | Volatile Uncorr. ECC |\n",
      "| Fan  Temp   Perf          Pwr:Usage/Cap |         Memory-Usage | GPU-Util  Compute M. |\n",
      "|                                         |                      |               MIG M. |\n",
      "|=========================================+======================+======================|\n",
      "|   0  NVIDIA GeForce RTX 2060        Off | 00000000:01:00.0  On |                  N/A |\n",
      "| N/A   52C    P2              23W /  80W |    164MiB /  6144MiB |      1%      Default |\n",
      "|                                         |                      |                  N/A |\n",
      "+-----------------------------------------+----------------------+----------------------+\n",
      "                                                                                         \n",
      "+---------------------------------------------------------------------------------------+\n",
      "| Processes:                                                                            |\n",
      "|  GPU   GI   CI        PID   Type   Process name                            GPU Memory |\n",
      "|        ID   ID                                                             Usage      |\n",
      "|=======================================================================================|\n",
      "+---------------------------------------------------------------------------------------+\n"
     ]
    }
   ],
   "source": [
    "print('GPUs: ', tf.config.list_physical_devices('GPU'))\n",
    "print('GPU Name: ', tf.test.gpu_device_name())\n",
    "!nvidia-smi"
   ]
  },
  {
   "cell_type": "code",
   "execution_count": 9,
   "id": "76d59225-1391-4bbe-a67f-ca406c96e8ab",
   "metadata": {},
   "outputs": [
    {
     "name": "stdout",
     "output_type": "stream",
     "text": [
      "['/device:CPU:0', '/device:GPU:0']\n"
     ]
    },
    {
     "name": "stderr",
     "output_type": "stream",
     "text": [
      "2023-08-11 22:26:26.094411: I tensorflow/compiler/xla/stream_executor/cuda/cuda_gpu_executor.cc:995] successful NUMA node read from SysFS had negative value (-1), but there must be at least one NUMA node, so returning NUMA node zero. See more at https://github.com/torvalds/linux/blob/v6.0/Documentation/ABI/testing/sysfs-bus-pci#L344-L355\n",
      "2023-08-11 22:26:26.094718: I tensorflow/compiler/xla/stream_executor/cuda/cuda_gpu_executor.cc:995] successful NUMA node read from SysFS had negative value (-1), but there must be at least one NUMA node, so returning NUMA node zero. See more at https://github.com/torvalds/linux/blob/v6.0/Documentation/ABI/testing/sysfs-bus-pci#L344-L355\n",
      "2023-08-11 22:26:26.094909: I tensorflow/compiler/xla/stream_executor/cuda/cuda_gpu_executor.cc:995] successful NUMA node read from SysFS had negative value (-1), but there must be at least one NUMA node, so returning NUMA node zero. See more at https://github.com/torvalds/linux/blob/v6.0/Documentation/ABI/testing/sysfs-bus-pci#L344-L355\n",
      "2023-08-11 22:26:26.095176: I tensorflow/compiler/xla/stream_executor/cuda/cuda_gpu_executor.cc:995] successful NUMA node read from SysFS had negative value (-1), but there must be at least one NUMA node, so returning NUMA node zero. See more at https://github.com/torvalds/linux/blob/v6.0/Documentation/ABI/testing/sysfs-bus-pci#L344-L355\n",
      "2023-08-11 22:26:26.095360: I tensorflow/compiler/xla/stream_executor/cuda/cuda_gpu_executor.cc:995] successful NUMA node read from SysFS had negative value (-1), but there must be at least one NUMA node, so returning NUMA node zero. See more at https://github.com/torvalds/linux/blob/v6.0/Documentation/ABI/testing/sysfs-bus-pci#L344-L355\n",
      "2023-08-11 22:26:26.095503: I tensorflow/core/common_runtime/gpu/gpu_device.cc:1639] Created device /device:GPU:0 with 4712 MB memory:  -> device: 0, name: NVIDIA GeForce RTX 2060, pci bus id: 0000:01:00.0, compute capability: 7.5\n"
     ]
    }
   ],
   "source": [
    " from tensorflow.python.client import device_lib\n",
    " def get_available_devices():\n",
    "     local_device_protos = device_lib.list_local_devices()\n",
    "     return [x.name for x in local_device_protos]\n",
    " print(get_available_devices()) "
   ]
  },
  {
   "cell_type": "code",
   "execution_count": 4,
   "id": "770f0384-97e7-4cef-b77b-7a1b1abc3cb6",
   "metadata": {},
   "outputs": [
    {
     "name": "stdout",
     "output_type": "stream",
     "text": [
      "absl-py==1.4.0\n",
      "anyio==3.7.1\n",
      "argon2-cffi==21.3.0\n",
      "argon2-cffi-bindings==21.2.0\n",
      "arrow==1.2.3\n",
      "asttokens==2.2.1\n",
      "astunparse==1.6.3\n",
      "async-lru==2.0.4\n",
      "attrs==23.1.0\n",
      "Babel==2.12.1\n",
      "backcall==0.2.0\n",
      "beautifulsoup4==4.12.2\n",
      "bleach==6.0.0\n",
      "cachetools==5.3.1\n",
      "certifi==2019.11.28\n",
      "cffi==1.15.1\n",
      "chardet==3.0.4\n",
      "charset-normalizer==3.2.0\n",
      "comm==0.1.3\n",
      "contourpy==1.1.0\n",
      "cycler==0.11.0\n",
      "dbus-python==1.2.16\n",
      "debugpy==1.6.7\n",
      "decorator==5.1.1\n",
      "defusedxml==0.7.1\n",
      "exceptiongroup==1.1.2\n",
      "executing==1.2.0\n",
      "fastjsonschema==2.17.1\n",
      "flatbuffers==23.5.26\n",
      "fonttools==4.40.0\n",
      "fqdn==1.5.1\n",
      "gast==0.4.0\n",
      "google-auth==2.21.0\n",
      "google-auth-oauthlib==1.0.0\n",
      "google-pasta==0.2.0\n",
      "grpcio==1.56.0\n",
      "h5py==3.9.0\n",
      "idna==2.8\n",
      "importlib-metadata==6.7.0\n",
      "importlib-resources==5.12.0\n",
      "ipykernel==6.24.0\n",
      "ipython==8.12.2\n",
      "ipython-genutils==0.2.0\n",
      "ipywidgets==8.0.7\n",
      "isoduration==20.11.0\n",
      "jedi==0.18.2\n",
      "Jinja2==3.1.2\n",
      "joblib==1.3.2\n",
      "json5==0.9.14\n",
      "jsonpointer==2.4\n",
      "jsonschema==4.18.0\n",
      "jsonschema-specifications==2023.6.1\n",
      "jupyter==1.0.0\n",
      "jupyter-console==6.6.3\n",
      "jupyter-events==0.6.3\n",
      "jupyter-http-over-ws==0.0.8\n",
      "jupyter-lsp==2.2.0\n",
      "jupyter_client==8.3.0\n",
      "jupyter_core==5.3.1\n",
      "jupyter_server==2.7.0\n",
      "jupyter_server_terminals==0.4.4\n",
      "jupyterlab==4.0.4\n",
      "jupyterlab-pygments==0.2.2\n",
      "jupyterlab-widgets==3.0.8\n",
      "jupyterlab_server==2.24.0\n",
      "keras==2.13.1\n",
      "kiwisolver==1.4.4\n",
      "libclang==16.0.0\n",
      "Markdown==3.4.3\n",
      "MarkupSafe==2.1.3\n",
      "matplotlib==3.7.2\n",
      "matplotlib-inline==0.1.6\n",
      "mistune==3.0.1\n",
      "nbclassic==1.0.0\n",
      "nbclient==0.8.0\n",
      "nbconvert==7.6.0\n",
      "nbformat==5.9.0\n",
      "nest-asyncio==1.5.6\n",
      "notebook==6.5.4\n",
      "notebook_shim==0.2.3\n",
      "numpy==1.24.3\n",
      "nvidia-cublas-cu11==11.11.3.6\n",
      "nvidia-cudnn-cu11==8.6.0.163\n",
      "oauthlib==3.2.2\n",
      "opt-einsum==3.3.0\n",
      "overrides==7.3.1\n",
      "packaging==23.1\n",
      "pandas==2.0.3\n",
      "pandocfilters==1.5.0\n",
      "parso==0.8.3\n",
      "pexpect==4.8.0\n",
      "pickleshare==0.7.5\n",
      "Pillow==10.0.0\n",
      "pkgutil_resolve_name==1.3.10\n",
      "platformdirs==3.8.0\n",
      "prometheus-client==0.17.0\n",
      "prompt-toolkit==3.0.39\n",
      "protobuf==4.23.3\n",
      "psutil==5.9.5\n",
      "ptyprocess==0.7.0\n",
      "pure-eval==0.2.2\n",
      "pyasn1==0.5.0\n",
      "pyasn1-modules==0.3.0\n",
      "pycparser==2.21\n",
      "Pygments==2.15.1\n",
      "PyGObject==3.36.0\n",
      "pyparsing==3.0.9\n",
      "python-apt==2.0.1+ubuntu0.20.4.1\n",
      "python-dateutil==2.8.2\n",
      "python-json-logger==2.0.7\n",
      "pytz==2023.3\n",
      "PyYAML==6.0\n",
      "pyzmq==25.1.0\n",
      "qtconsole==5.4.3\n",
      "QtPy==2.3.1\n",
      "referencing==0.29.1\n",
      "requests==2.31.0\n",
      "requests-oauthlib==1.3.1\n",
      "requests-unixsocket==0.2.0\n",
      "rfc3339-validator==0.1.4\n",
      "rfc3986-validator==0.1.1\n",
      "rpds-py==0.8.4\n",
      "rsa==4.9\n",
      "scikit-learn==1.3.0\n",
      "scipy==1.10.1\n",
      "seaborn==0.12.2\n",
      "Send2Trash==1.8.2\n",
      "six==1.14.0\n",
      "sniffio==1.3.0\n",
      "soupsieve==2.4.1\n",
      "stack-data==0.6.2\n",
      "tensorboard==2.13.0\n",
      "tensorboard-data-server==0.7.1\n",
      "tensorflow==2.13.0\n",
      "tensorflow-estimator==2.13.0\n",
      "tensorflow-io-gcs-filesystem==0.32.0\n",
      "termcolor==2.3.0\n",
      "terminado==0.17.1\n",
      "threadpoolctl==3.2.0\n",
      "tinycss2==1.2.1\n",
      "tomli==2.0.1\n",
      "tornado==6.3.2\n",
      "traitlets==5.9.0\n",
      "typing_extensions==4.5.0\n",
      "tzdata==2023.3\n",
      "uri-template==1.3.0\n",
      "urllib3==1.25.8\n",
      "wcwidth==0.2.6\n",
      "webcolors==1.13\n",
      "webencodings==0.5.1\n",
      "websocket-client==1.6.1\n",
      "Werkzeug==2.3.6\n",
      "widgetsnbextension==4.0.8\n",
      "wrapt==1.15.0\n",
      "zipp==3.15.0\n"
     ]
    }
   ],
   "source": [
    "!pip freeze"
   ]
  },
  {
   "cell_type": "code",
   "execution_count": 17,
   "id": "305f8452-e1f5-4448-88aa-80978bef8d53",
   "metadata": {},
   "outputs": [
    {
     "name": "stdout",
     "output_type": "stream",
     "text": [
      "Collecting nvidia-cudnn-cu11==8.6.0.163\n",
      "  Downloading nvidia_cudnn_cu11-8.6.0.163-py3-none-manylinux1_x86_64.whl (715.7 MB)\n",
      "\u001b[2K     \u001b[90m━━━━━━━━━━━━━━━━━━━━━━━━━━━━━━━━━━━━━━━\u001b[0m \u001b[32m715.7/715.7 MB\u001b[0m \u001b[31m5.8 MB/s\u001b[0m eta \u001b[36m0:00:00\u001b[0m00:01\u001b[0m00:01\u001b[0m\n",
      "\u001b[?25hCollecting nvidia-cublas-cu11 (from nvidia-cudnn-cu11==8.6.0.163)\n",
      "  Downloading nvidia_cublas_cu11-11.11.3.6-py3-none-manylinux1_x86_64.whl (417.9 MB)\n",
      "\u001b[2K     \u001b[90m━━━━━━━━━━━━━━━━━━━━━━━━━━━━━━━━━━━━━━━\u001b[0m \u001b[32m417.9/417.9 MB\u001b[0m \u001b[31m9.1 MB/s\u001b[0m eta \u001b[36m0:00:00\u001b[0m00:01\u001b[0m00:01\u001b[0m\n",
      "\u001b[?25hInstalling collected packages: nvidia-cublas-cu11, nvidia-cudnn-cu11\n",
      "Successfully installed nvidia-cublas-cu11-11.11.3.6 nvidia-cudnn-cu11-8.6.0.163\n",
      "\u001b[33mWARNING: Running pip as the 'root' user can result in broken permissions and conflicting behaviour with the system package manager. It is recommended to use a virtual environment instead: https://pip.pypa.io/warnings/venv\u001b[0m\u001b[33m\n",
      "\u001b[0m"
     ]
    }
   ],
   "source": [
    "#!pip install nvidia-cudnn-cu11==8.6.0.163"
   ]
  },
  {
   "cell_type": "code",
   "execution_count": null,
   "id": "0f028adf-445a-4063-976a-2a193bab9e0a",
   "metadata": {},
   "outputs": [],
   "source": []
  }
 ],
 "metadata": {
  "kernelspec": {
   "display_name": "Python 3 (ipykernel)",
   "language": "python",
   "name": "python3"
  },
  "language_info": {
   "codemirror_mode": {
    "name": "ipython",
    "version": 3
   },
   "file_extension": ".py",
   "mimetype": "text/x-python",
   "name": "python",
   "nbconvert_exporter": "python",
   "pygments_lexer": "ipython3",
   "version": "3.8.10"
  }
 },
 "nbformat": 4,
 "nbformat_minor": 5
}
